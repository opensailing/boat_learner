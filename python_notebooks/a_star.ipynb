{
 "cells": [
  {
   "cell_type": "code",
   "execution_count": 97,
   "metadata": {},
   "outputs": [],
   "source": [
    "import numpy as np\n",
    "# import matplotlib.pyplot as plt\n",
    "import plotly.graph_objects as go\n",
    "\n",
    "from boat_simulation import speed_interp, wrap_phase\n",
    "\n",
    "from boat_simulation import angle_difference as angle_difference_simulation\n",
    "\n",
    "BOAT_LENGTH = 7\n",
    "TACK_PENALTY_SECONDS = 15\n",
    "DEFAULT_DT = 10  # Time step\n",
    "SOG_max = 10  # Assuming a maximum SOG for the heuristic calculation\n",
    "DEAD_ZONE = 30 * np.pi/180  # Dead zone for tacking\n",
    "GRID_RESOLUTION = 4 # grid resolution in meters\n",
    "\n",
    "class Node:\n",
    "    def __init__(self, position, heading, speed, parent=None, tacking=False):\n",
    "        self.position = position\n",
    "        self.parent = parent\n",
    "        self.g = 0  # Cost from start to current node\n",
    "        self.h = 0  # Heuristic - estimated cost from current node to end\n",
    "        self.f = 0  # Total cost\n",
    "        self.tacking = tacking  # Indicates if this node involved a tack\n",
    "        self.heading = heading\n",
    "        self.speed = speed\n",
    "\n",
    "    def __eq__(self, other):\n",
    "        return np.all(self.position == other.position) and self.heading == other.heading and self.tacking == other.tacking and self.speed == other.speed\n",
    "\n",
    "def angle_difference(a, b):\n",
    "    if a is None:\n",
    "        return b\n",
    "\n",
    "    if b is None:\n",
    "        return a\n",
    "\n",
    "    return angle_difference_simulation(a, b)\n",
    "\n",
    "def vmg(current_pos, mark_pos, water_current, speed, heading):\n",
    "    \"\"\"\n",
    "    Calculates the speed component towards a mark.\n",
    "\n",
    "    Parameters:\n",
    "    - current_pos: Tuple (x, y) representing the current position.\n",
    "    - mark_pos: Tuple (x, y) representing the mark's position.\n",
    "    - speed: The current speed.\n",
    "    - heading: The current heading in degrees.\n",
    "\n",
    "    Returns:\n",
    "    - The speed component towards the mark.\n",
    "    \"\"\"\n",
    "    # Convert speed and heading to a velocity vector\n",
    "    velocity_vector = np.array([speed * np.sin(heading), speed * np.cos(heading)]) + water_current\n",
    "\n",
    "    # Calculate the direction vector from the current position to the mark\n",
    "    direction_vector = np.array([mark_pos[0] - current_pos[0], mark_pos[1] - current_pos[1]])\n",
    "\n",
    "    # Calculate the dot product of the velocity and direction vectors\n",
    "    dot_product = np.dot(velocity_vector, direction_vector)\n",
    "\n",
    "    # Calculate the magnitude of the direction vector\n",
    "    direction_magnitude = np.linalg.norm(direction_vector)\n",
    "\n",
    "    # Calculate the speed component towards the mark\n",
    "    speed_towards = dot_product / direction_magnitude\n",
    "\n",
    "    return speed_towards\n",
    "\n",
    "def get_water_current(position, currents, xs, ys):\n",
    "    x_idx = np.argmin(np.abs(position[0] - xs))\n",
    "    y_idx = np.argmin(np.abs(position[1] - ys))\n",
    "    return currents[x_idx, y_idx]\n",
    "\n",
    "def on_segment(px, py, qx, qy, rx, ry):\n",
    "    \"\"\" Check if point R lies on line segment PQ \"\"\"\n",
    "    if min(px, qx) <= rx <= max(px, qx) and min(py, qy) <= ry <= max(py, qy):\n",
    "        return True\n",
    "    return False\n",
    "\n",
    "def orientation(px, py, qx, qy, rx, ry):\n",
    "    \"\"\" Return orientation of the triplet (p, q, r).\n",
    "        0 -> p, q and r are collinear\n",
    "        1 -> Clockwise\n",
    "        2 -> Counterclockwise\n",
    "    \"\"\"\n",
    "    val = (qy - py) * (rx - qx) - (qx - px) * (ry - qy)\n",
    "    if val == 0:\n",
    "        return 0\n",
    "    elif val > 0:\n",
    "        return 1\n",
    "    else:\n",
    "        return 2\n",
    "\n",
    "def segments_intersect(p1x, p1y, q1x, q1y, p2x, p2y, q2x, q2y):\n",
    "    \"\"\" Return True if line segment 'p1q1' and 'p2q2' intersect. \"\"\"\n",
    "    o1 = orientation(p1x, p1y, q1x, q1y, p2x, p2y)\n",
    "    o2 = orientation(p1x, p1y, q1x, q1y, q2x, q2y)\n",
    "    o3 = orientation(p2x, p2y, q2x, q2y, p1x, p1y)\n",
    "    o4 = orientation(p2x, p2y, q2x, q2y, q1x, q1y)\n",
    "\n",
    "    # General case\n",
    "    if (o1 != o2 and o3 != o4):\n",
    "        return True\n",
    "\n",
    "    # Special Cases (checking if the points are collinear and on segment)\n",
    "    if (o1 == 0 and on_segment(p1x, p1y, q1x, q1y, p2x, p2y)):\n",
    "        return True\n",
    "    if (o2 == 0 and on_segment(p1x, p1y, q1x, q1y, q2x, q2y)):\n",
    "        return True\n",
    "    if (o3 == 0 and on_segment(p2x, p2y, q2x, q2y, p1x, p1y)):\n",
    "        return True\n",
    "    if (o4 == 0 and on_segment(p2x, p2y, q2x, q2y, q1x, q1y)):\n",
    "        return True\n",
    "\n",
    "    return False  # Doesn't intersect\n",
    "\n",
    "def intersects_obstacle(start_pos, end_pos, obstacles):\n",
    "    lx0, ly0, lx1, ly1 = start_pos[0], start_pos[1], end_pos[0], end_pos[1]\n",
    "    for (rx0, rx1, ry0, ry1) in obstacles:\n",
    "        intersects = (\n",
    "            segments_intersect(lx0, ly0, lx1, ly1, rx0, ry0, rx1, ry0) or\n",
    "            segments_intersect(lx0, ly0, lx1, ly1, rx0, ry1, rx1, ry1) or\n",
    "            segments_intersect(lx0, ly0, lx1, ly1, rx0, ry0, rx0, ry1) or\n",
    "            segments_intersect(lx0, ly0, lx1, ly1, rx1, ry0, rx1, ry1)\n",
    "        )\n",
    "        if intersects:\n",
    "            return True\n",
    "\n",
    "    return False\n",
    "\n",
    "def get_neighbors(node, goal, obstacles, water_currents, xs, ys, grid_resolution, dt, min_x, max_x, min_y, max_y):\n",
    "    angles = [x * np.pi/180 for x in range(40, 180, 1)]\n",
    "    # angles = np.array([0, 45, 137, 180]) * np.pi/180\n",
    "\n",
    "    def valid_angle(angle):\n",
    "        if node.heading is None:\n",
    "            return True\n",
    "        diff = np.abs(angle_difference(angle, node.heading))\n",
    "        return diff <= np.pi / 2\n",
    "\n",
    "    angles = angles + [2 * np.pi - x for x in angles]\n",
    "    angles = [x for x in angles if valid_angle(x)]\n",
    "    if len(angles) == 0:\n",
    "        return []\n",
    "    angles = np.array(angles)\n",
    "\n",
    "    # if node.heading is None:\n",
    "    #     pass\n",
    "    # elif node.heading <= DEAD_ZONE or node.heading >= 2 * np.pi - DEAD_ZONE:\n",
    "    # elif node.heading < np.pi:\n",
    "    #     angles = 2 * np.pi - angles\n",
    "\n",
    "    speeds = speed_interp(angles)\n",
    "    water_current = get_water_current(node.position, water_currents, xs, ys)\n",
    "\n",
    "    vmgs = [vmg(node.position, goal.position, water_current, speed, angle) for angle, speed in zip(angles, speeds)]\n",
    "\n",
    "    idx = np.argsort(vmgs)[-min(len(angles), 3):]\n",
    "    tacking_angles = angles[idx]\n",
    "\n",
    "    if node.heading:\n",
    "        angles = np.concatenate([tacking_angles, node.heading.reshape((1,))])\n",
    "        speeds = np.concatenate([speeds[idx], speeds[np.argmin(np.abs(node.heading - angles)).reshape((1,))]])\n",
    "    else:\n",
    "        angles = tacking_angles\n",
    "        speeds = np.reshape(speeds[idx], (-1,))\n",
    "\n",
    "    speed_x = np.sin(angles) * speeds + water_current[0]\n",
    "    speed_y = np.cos(angles) * speeds + water_current[1]\n",
    "\n",
    "    next_x = node.position[0] + speed_x * dt\n",
    "    next_y = node.position[1] + speed_y * dt\n",
    "\n",
    "    next_pos = np.stack([next_x, next_y], axis=1)\n",
    "    next_pos = np.round(next_pos / grid_resolution) * grid_resolution\n",
    "\n",
    "    def valid_position(pos, min_x, max_x, min_y, max_y):\n",
    "        return not intersects_obstacle(node.position, pos, obstacles) and pos[0] >= min_x and pos[0] <= max_x and pos[1] >= min_y and pos[1] <= max_y\n",
    "\n",
    "\n",
    "    # Calculate new positions based on current node, VMG angle, and boat speed\n",
    "    speeds = np.sqrt(speed_x ** 2 + speed_y ** 2)\n",
    "    neighbors = [Node(next_pos[i], angle, speeds[i], node, node.heading != angle) for i, angle in enumerate(angles) if valid_position(next_pos[i], min_x, max_x, min_y, max_y)]\n",
    "\n",
    "    # Implement the logic to calculate neighbor positions considering tacking and non-tacking scenarios\n",
    "    return neighbors\n",
    "\n",
    "def heuristic(node, goal):\n",
    "    # Euclidean distance to goal divided by max SOG\n",
    "    return np.linalg.norm(node.position - goal.position)/SOG_max\n",
    "\n",
    "def goal_reached(node, goal):\n",
    "    dx = node.position[0] - goal.position[0]\n",
    "    dy = node.position[1] - goal.position[1]\n",
    "    return np.sqrt(dx**2 + dy**2) <= 3 * BOAT_LENGTH\n",
    "\n",
    "def add_to_open(open_list, neighbor):\n",
    "    for node in open_list:\n",
    "        if neighbor == node and neighbor.g >= node.g:\n",
    "            return False\n",
    "    return True\n",
    "\n",
    "def a_star(start, goal, obstacles, water_currents, xs, ys, start_heading=None, grid_resolution=GRID_RESOLUTION, dt=DEFAULT_DT, min_x=-400, max_x=400, min_y=-400, max_y=400):\n",
    "    open_list = []\n",
    "    closed_list = []\n",
    "\n",
    "    start_node = Node(start, start_heading, 0, None)\n",
    "    goal_node = Node(goal, None, 0, None)\n",
    "\n",
    "    open_list.append(start_node)\n",
    "\n",
    "    while open_list:\n",
    "        current_node = min(open_list, key=lambda o: o.f)\n",
    "        open_list.remove(current_node)\n",
    "        closed_list.append(current_node)\n",
    "\n",
    "        # Check if we reached the goal within a certain radius\n",
    "        if goal_reached(current_node, goal_node):\n",
    "            path = []\n",
    "            while current_node is not None:\n",
    "                path.append((current_node.position[0], current_node.position[1], current_node.heading, current_node.speed, current_node.g))\n",
    "                current_node = current_node.parent\n",
    "            return path[::-1]  # Return reversed path\n",
    "\n",
    "        # Generate children\n",
    "        for neighbor in get_neighbors(current_node, goal_node, obstacles, water_currents, xs, ys, grid_resolution, dt, min_x, max_x, min_y, max_y):\n",
    "            if any([n == neighbor for n in closed_list]):\n",
    "                continue\n",
    "\n",
    "            # Update the cost considering tacking penalty\n",
    "            neighbor.g = current_node.g + dt + (TACK_PENALTY_SECONDS if neighbor.tacking else 0)\n",
    "            neighbor.h = heuristic(neighbor, goal_node)\n",
    "            neighbor.f = neighbor.g + neighbor.h\n",
    "\n",
    "            if add_to_open(open_list, neighbor):\n",
    "                open_list.append(neighbor)\n",
    "\n",
    "    return None  # No path found"
   ]
  },
  {
   "cell_type": "code",
   "execution_count": 101,
   "metadata": {},
   "outputs": [
    {
     "data": {
      "application/vnd.plotly.v1+json": {
       "config": {
        "plotlyServerURL": "https://plot.ly"
       },
       "data": [
        {
         "hoverinfo": "text",
         "marker": {
          "color": [
           "blue",
           "blue",
           "blue",
           "blue",
           "blue",
           "blue",
           "blue",
           "blue",
           "blue",
           "blue",
           "blue",
           "blue",
           "blue",
           "blue",
           "blue",
           "blue",
           "blue",
           "blue",
           "blue",
           "blue",
           "blue",
           "blue",
           "blue",
           "blue",
           "blue",
           "blue",
           "blue",
           "blue",
           "blue",
           "blue"
          ]
         },
         "mode": "lines+markers",
         "name": "Path",
         "text": [
          "X: 0; Y: 0; Heading: 0.0°; Speed: 0",
          "X: 8.0; Y: 8.0; Heading: 40.0°; Speed: 2.49507445671384",
          "X: 16.0; Y: 16.0; Heading: 40.0°; Speed: 2.49507445671384",
          "X: 24.0; Y: 24.0; Heading: 40.0°; Speed: 2.407764615582668",
          "X: 32.0; Y: 32.0; Heading: 40.0°; Speed: 2.407764615582668",
          "X: 40.0; Y: 40.0; Heading: 40.0°; Speed: 2.407764615582668",
          "X: 48.0; Y: 48.0; Heading: 40.0°; Speed: 2.407764615582668",
          "X: 56.0; Y: 56.0; Heading: 40.0°; Speed: 2.407764615582668",
          "X: 64.0; Y: 64.0; Heading: 40.0°; Speed: 2.407764615582668",
          "X: 72.0; Y: 72.0; Heading: 40.0°; Speed: 2.407764615582668",
          "X: 80.0; Y: 80.0; Heading: 40.0°; Speed: 2.407764615582668",
          "X: 88.0; Y: 88.0; Heading: 40.0°; Speed: 2.407764615582668",
          "X: 96.0; Y: 96.0; Heading: 40.0°; Speed: 2.407764615582668",
          "X: 104.0; Y: 104.0; Heading: 40.0°; Speed: 2.407764615582668",
          "X: 112.0; Y: 112.0; Heading: 40.0°; Speed: 2.407764615582668",
          "X: 120.0; Y: 120.0; Heading: 40.0°; Speed: 2.407764615582668",
          "X: 108.0; Y: 128.0; Heading: -50.0°; Speed: 2.623668458404937",
          "X: 100.0; Y: 136.0; Heading: -50.0°; Speed: 2.264949980145294",
          "X: 92.0; Y: 144.0; Heading: -50.0°; Speed: 2.264949980145294",
          "X: 84.0; Y: 152.0; Heading: -50.0°; Speed: 2.264949980145294",
          "X: 76.0; Y: 160.0; Heading: -50.0°; Speed: 2.264949980145294",
          "X: 68.0; Y: 168.0; Heading: -50.0°; Speed: 2.264949980145294",
          "X: 60.0; Y: 176.0; Heading: -50.0°; Speed: 2.264949980145294",
          "X: 52.0; Y: 184.0; Heading: -50.0°; Speed: 2.264949980145294",
          "X: 44.0; Y: 192.0; Heading: -50.0°; Speed: 2.264949980145294",
          "X: 36.0; Y: 200.0; Heading: -50.0°; Speed: 2.264949980145294",
          "X: 28.0; Y: 208.0; Heading: -50.0°; Speed: 2.264949980145294",
          "X: 20.0; Y: 216.0; Heading: -50.0°; Speed: 2.264949980145294",
          "X: 12.0; Y: 224.0; Heading: -50.0°; Speed: 2.264949980145294",
          "X: 4.0; Y: 232.0; Heading: -50.0°; Speed: 2.264949980145294"
         ],
         "type": "scatter",
         "x": [
          0,
          8,
          16,
          24,
          32,
          40,
          48,
          56,
          64,
          72,
          80,
          88,
          96,
          104,
          112,
          120,
          108,
          100,
          92,
          84,
          76,
          68,
          60,
          52,
          44,
          36,
          28,
          20,
          12,
          4
         ],
         "y": [
          0,
          8,
          16,
          24,
          32,
          40,
          48,
          56,
          64,
          72,
          80,
          88,
          96,
          104,
          112,
          120,
          128,
          136,
          144,
          152,
          160,
          168,
          176,
          184,
          192,
          200,
          208,
          216,
          224,
          232
         ]
        },
        {
         "marker": {
          "color": "red",
          "size": 12
         },
         "mode": "markers",
         "name": "Goal",
         "type": "scatter",
         "x": [
          0
         ],
         "y": [
          250
         ]
        }
       ],
       "layout": {
        "height": 600,
        "hovermode": "closest",
        "shapes": [
         {
          "fillcolor": "grey",
          "line": {
           "color": "grey"
          },
          "opacity": 0.5,
          "type": "rect",
          "x0": -100,
          "x1": 50,
          "y0": 75,
          "y1": 125
         }
        ],
        "template": {
         "data": {
          "bar": [
           {
            "error_x": {
             "color": "#2a3f5f"
            },
            "error_y": {
             "color": "#2a3f5f"
            },
            "marker": {
             "line": {
              "color": "#E5ECF6",
              "width": 0.5
             },
             "pattern": {
              "fillmode": "overlay",
              "size": 10,
              "solidity": 0.2
             }
            },
            "type": "bar"
           }
          ],
          "barpolar": [
           {
            "marker": {
             "line": {
              "color": "#E5ECF6",
              "width": 0.5
             },
             "pattern": {
              "fillmode": "overlay",
              "size": 10,
              "solidity": 0.2
             }
            },
            "type": "barpolar"
           }
          ],
          "carpet": [
           {
            "aaxis": {
             "endlinecolor": "#2a3f5f",
             "gridcolor": "white",
             "linecolor": "white",
             "minorgridcolor": "white",
             "startlinecolor": "#2a3f5f"
            },
            "baxis": {
             "endlinecolor": "#2a3f5f",
             "gridcolor": "white",
             "linecolor": "white",
             "minorgridcolor": "white",
             "startlinecolor": "#2a3f5f"
            },
            "type": "carpet"
           }
          ],
          "choropleth": [
           {
            "colorbar": {
             "outlinewidth": 0,
             "ticks": ""
            },
            "type": "choropleth"
           }
          ],
          "contour": [
           {
            "colorbar": {
             "outlinewidth": 0,
             "ticks": ""
            },
            "colorscale": [
             [
              0,
              "#0d0887"
             ],
             [
              0.1111111111111111,
              "#46039f"
             ],
             [
              0.2222222222222222,
              "#7201a8"
             ],
             [
              0.3333333333333333,
              "#9c179e"
             ],
             [
              0.4444444444444444,
              "#bd3786"
             ],
             [
              0.5555555555555556,
              "#d8576b"
             ],
             [
              0.6666666666666666,
              "#ed7953"
             ],
             [
              0.7777777777777778,
              "#fb9f3a"
             ],
             [
              0.8888888888888888,
              "#fdca26"
             ],
             [
              1,
              "#f0f921"
             ]
            ],
            "type": "contour"
           }
          ],
          "contourcarpet": [
           {
            "colorbar": {
             "outlinewidth": 0,
             "ticks": ""
            },
            "type": "contourcarpet"
           }
          ],
          "heatmap": [
           {
            "colorbar": {
             "outlinewidth": 0,
             "ticks": ""
            },
            "colorscale": [
             [
              0,
              "#0d0887"
             ],
             [
              0.1111111111111111,
              "#46039f"
             ],
             [
              0.2222222222222222,
              "#7201a8"
             ],
             [
              0.3333333333333333,
              "#9c179e"
             ],
             [
              0.4444444444444444,
              "#bd3786"
             ],
             [
              0.5555555555555556,
              "#d8576b"
             ],
             [
              0.6666666666666666,
              "#ed7953"
             ],
             [
              0.7777777777777778,
              "#fb9f3a"
             ],
             [
              0.8888888888888888,
              "#fdca26"
             ],
             [
              1,
              "#f0f921"
             ]
            ],
            "type": "heatmap"
           }
          ],
          "heatmapgl": [
           {
            "colorbar": {
             "outlinewidth": 0,
             "ticks": ""
            },
            "colorscale": [
             [
              0,
              "#0d0887"
             ],
             [
              0.1111111111111111,
              "#46039f"
             ],
             [
              0.2222222222222222,
              "#7201a8"
             ],
             [
              0.3333333333333333,
              "#9c179e"
             ],
             [
              0.4444444444444444,
              "#bd3786"
             ],
             [
              0.5555555555555556,
              "#d8576b"
             ],
             [
              0.6666666666666666,
              "#ed7953"
             ],
             [
              0.7777777777777778,
              "#fb9f3a"
             ],
             [
              0.8888888888888888,
              "#fdca26"
             ],
             [
              1,
              "#f0f921"
             ]
            ],
            "type": "heatmapgl"
           }
          ],
          "histogram": [
           {
            "marker": {
             "pattern": {
              "fillmode": "overlay",
              "size": 10,
              "solidity": 0.2
             }
            },
            "type": "histogram"
           }
          ],
          "histogram2d": [
           {
            "colorbar": {
             "outlinewidth": 0,
             "ticks": ""
            },
            "colorscale": [
             [
              0,
              "#0d0887"
             ],
             [
              0.1111111111111111,
              "#46039f"
             ],
             [
              0.2222222222222222,
              "#7201a8"
             ],
             [
              0.3333333333333333,
              "#9c179e"
             ],
             [
              0.4444444444444444,
              "#bd3786"
             ],
             [
              0.5555555555555556,
              "#d8576b"
             ],
             [
              0.6666666666666666,
              "#ed7953"
             ],
             [
              0.7777777777777778,
              "#fb9f3a"
             ],
             [
              0.8888888888888888,
              "#fdca26"
             ],
             [
              1,
              "#f0f921"
             ]
            ],
            "type": "histogram2d"
           }
          ],
          "histogram2dcontour": [
           {
            "colorbar": {
             "outlinewidth": 0,
             "ticks": ""
            },
            "colorscale": [
             [
              0,
              "#0d0887"
             ],
             [
              0.1111111111111111,
              "#46039f"
             ],
             [
              0.2222222222222222,
              "#7201a8"
             ],
             [
              0.3333333333333333,
              "#9c179e"
             ],
             [
              0.4444444444444444,
              "#bd3786"
             ],
             [
              0.5555555555555556,
              "#d8576b"
             ],
             [
              0.6666666666666666,
              "#ed7953"
             ],
             [
              0.7777777777777778,
              "#fb9f3a"
             ],
             [
              0.8888888888888888,
              "#fdca26"
             ],
             [
              1,
              "#f0f921"
             ]
            ],
            "type": "histogram2dcontour"
           }
          ],
          "mesh3d": [
           {
            "colorbar": {
             "outlinewidth": 0,
             "ticks": ""
            },
            "type": "mesh3d"
           }
          ],
          "parcoords": [
           {
            "line": {
             "colorbar": {
              "outlinewidth": 0,
              "ticks": ""
             }
            },
            "type": "parcoords"
           }
          ],
          "pie": [
           {
            "automargin": true,
            "type": "pie"
           }
          ],
          "scatter": [
           {
            "fillpattern": {
             "fillmode": "overlay",
             "size": 10,
             "solidity": 0.2
            },
            "type": "scatter"
           }
          ],
          "scatter3d": [
           {
            "line": {
             "colorbar": {
              "outlinewidth": 0,
              "ticks": ""
             }
            },
            "marker": {
             "colorbar": {
              "outlinewidth": 0,
              "ticks": ""
             }
            },
            "type": "scatter3d"
           }
          ],
          "scattercarpet": [
           {
            "marker": {
             "colorbar": {
              "outlinewidth": 0,
              "ticks": ""
             }
            },
            "type": "scattercarpet"
           }
          ],
          "scattergeo": [
           {
            "marker": {
             "colorbar": {
              "outlinewidth": 0,
              "ticks": ""
             }
            },
            "type": "scattergeo"
           }
          ],
          "scattergl": [
           {
            "marker": {
             "colorbar": {
              "outlinewidth": 0,
              "ticks": ""
             }
            },
            "type": "scattergl"
           }
          ],
          "scattermapbox": [
           {
            "marker": {
             "colorbar": {
              "outlinewidth": 0,
              "ticks": ""
             }
            },
            "type": "scattermapbox"
           }
          ],
          "scatterpolar": [
           {
            "marker": {
             "colorbar": {
              "outlinewidth": 0,
              "ticks": ""
             }
            },
            "type": "scatterpolar"
           }
          ],
          "scatterpolargl": [
           {
            "marker": {
             "colorbar": {
              "outlinewidth": 0,
              "ticks": ""
             }
            },
            "type": "scatterpolargl"
           }
          ],
          "scatterternary": [
           {
            "marker": {
             "colorbar": {
              "outlinewidth": 0,
              "ticks": ""
             }
            },
            "type": "scatterternary"
           }
          ],
          "surface": [
           {
            "colorbar": {
             "outlinewidth": 0,
             "ticks": ""
            },
            "colorscale": [
             [
              0,
              "#0d0887"
             ],
             [
              0.1111111111111111,
              "#46039f"
             ],
             [
              0.2222222222222222,
              "#7201a8"
             ],
             [
              0.3333333333333333,
              "#9c179e"
             ],
             [
              0.4444444444444444,
              "#bd3786"
             ],
             [
              0.5555555555555556,
              "#d8576b"
             ],
             [
              0.6666666666666666,
              "#ed7953"
             ],
             [
              0.7777777777777778,
              "#fb9f3a"
             ],
             [
              0.8888888888888888,
              "#fdca26"
             ],
             [
              1,
              "#f0f921"
             ]
            ],
            "type": "surface"
           }
          ],
          "table": [
           {
            "cells": {
             "fill": {
              "color": "#EBF0F8"
             },
             "line": {
              "color": "white"
             }
            },
            "header": {
             "fill": {
              "color": "#C8D4E3"
             },
             "line": {
              "color": "white"
             }
            },
            "type": "table"
           }
          ]
         },
         "layout": {
          "annotationdefaults": {
           "arrowcolor": "#2a3f5f",
           "arrowhead": 0,
           "arrowwidth": 1
          },
          "autotypenumbers": "strict",
          "coloraxis": {
           "colorbar": {
            "outlinewidth": 0,
            "ticks": ""
           }
          },
          "colorscale": {
           "diverging": [
            [
             0,
             "#8e0152"
            ],
            [
             0.1,
             "#c51b7d"
            ],
            [
             0.2,
             "#de77ae"
            ],
            [
             0.3,
             "#f1b6da"
            ],
            [
             0.4,
             "#fde0ef"
            ],
            [
             0.5,
             "#f7f7f7"
            ],
            [
             0.6,
             "#e6f5d0"
            ],
            [
             0.7,
             "#b8e186"
            ],
            [
             0.8,
             "#7fbc41"
            ],
            [
             0.9,
             "#4d9221"
            ],
            [
             1,
             "#276419"
            ]
           ],
           "sequential": [
            [
             0,
             "#0d0887"
            ],
            [
             0.1111111111111111,
             "#46039f"
            ],
            [
             0.2222222222222222,
             "#7201a8"
            ],
            [
             0.3333333333333333,
             "#9c179e"
            ],
            [
             0.4444444444444444,
             "#bd3786"
            ],
            [
             0.5555555555555556,
             "#d8576b"
            ],
            [
             0.6666666666666666,
             "#ed7953"
            ],
            [
             0.7777777777777778,
             "#fb9f3a"
            ],
            [
             0.8888888888888888,
             "#fdca26"
            ],
            [
             1,
             "#f0f921"
            ]
           ],
           "sequentialminus": [
            [
             0,
             "#0d0887"
            ],
            [
             0.1111111111111111,
             "#46039f"
            ],
            [
             0.2222222222222222,
             "#7201a8"
            ],
            [
             0.3333333333333333,
             "#9c179e"
            ],
            [
             0.4444444444444444,
             "#bd3786"
            ],
            [
             0.5555555555555556,
             "#d8576b"
            ],
            [
             0.6666666666666666,
             "#ed7953"
            ],
            [
             0.7777777777777778,
             "#fb9f3a"
            ],
            [
             0.8888888888888888,
             "#fdca26"
            ],
            [
             1,
             "#f0f921"
            ]
           ]
          },
          "colorway": [
           "#636efa",
           "#EF553B",
           "#00cc96",
           "#ab63fa",
           "#FFA15A",
           "#19d3f3",
           "#FF6692",
           "#B6E880",
           "#FF97FF",
           "#FECB52"
          ],
          "font": {
           "color": "#2a3f5f"
          },
          "geo": {
           "bgcolor": "white",
           "lakecolor": "white",
           "landcolor": "#E5ECF6",
           "showlakes": true,
           "showland": true,
           "subunitcolor": "white"
          },
          "hoverlabel": {
           "align": "left"
          },
          "hovermode": "closest",
          "mapbox": {
           "style": "light"
          },
          "paper_bgcolor": "white",
          "plot_bgcolor": "#E5ECF6",
          "polar": {
           "angularaxis": {
            "gridcolor": "white",
            "linecolor": "white",
            "ticks": ""
           },
           "bgcolor": "#E5ECF6",
           "radialaxis": {
            "gridcolor": "white",
            "linecolor": "white",
            "ticks": ""
           }
          },
          "scene": {
           "xaxis": {
            "backgroundcolor": "#E5ECF6",
            "gridcolor": "white",
            "gridwidth": 2,
            "linecolor": "white",
            "showbackground": true,
            "ticks": "",
            "zerolinecolor": "white"
           },
           "yaxis": {
            "backgroundcolor": "#E5ECF6",
            "gridcolor": "white",
            "gridwidth": 2,
            "linecolor": "white",
            "showbackground": true,
            "ticks": "",
            "zerolinecolor": "white"
           },
           "zaxis": {
            "backgroundcolor": "#E5ECF6",
            "gridcolor": "white",
            "gridwidth": 2,
            "linecolor": "white",
            "showbackground": true,
            "ticks": "",
            "zerolinecolor": "white"
           }
          },
          "shapedefaults": {
           "line": {
            "color": "#2a3f5f"
           }
          },
          "ternary": {
           "aaxis": {
            "gridcolor": "white",
            "linecolor": "white",
            "ticks": ""
           },
           "baxis": {
            "gridcolor": "white",
            "linecolor": "white",
            "ticks": ""
           },
           "bgcolor": "#E5ECF6",
           "caxis": {
            "gridcolor": "white",
            "linecolor": "white",
            "ticks": ""
           }
          },
          "title": {
           "x": 0.05
          },
          "xaxis": {
           "automargin": true,
           "gridcolor": "white",
           "linecolor": "white",
           "ticks": "",
           "title": {
            "standoff": 15
           },
           "zerolinecolor": "white",
           "zerolinewidth": 2
          },
          "yaxis": {
           "automargin": true,
           "gridcolor": "white",
           "linecolor": "white",
           "ticks": "",
           "title": {
            "standoff": 15
           },
           "zerolinecolor": "white",
           "zerolinewidth": 2
          }
         }
        },
        "title": {
         "text": "Optimal Sailing Path"
        },
        "width": 600,
        "xaxis": {
         "range": [
          -350,
          350
         ],
         "title": {
          "text": "X Position (m)"
         }
        },
        "yaxis": {
         "range": [
          -350,
          350
         ],
         "title": {
          "text": "Y Position (m)"
         }
        }
       }
      }
     },
     "metadata": {},
     "output_type": "display_data"
    }
   ],
   "source": [
    "# Define start and goal\n",
    "start = np.array([0, 0])\n",
    "goal = np.array([0, 250])\n",
    "\n",
    "min_x = -300\n",
    "max_x = 300\n",
    "min_y = -300\n",
    "max_y = 300\n",
    "\n",
    "xs=np.arange(min_x, max_x, GRID_RESOLUTION)\n",
    "ys=np.arange(min_y, max_y, GRID_RESOLUTION)\n",
    "\n",
    "water_currents = np.zeros((len(xs), len(ys), 2))\n",
    "# water_currents[xs > 10, :] = np.array([-10, 10])\n",
    "# water_currents[xs < -10, :] = np.array([10, 10])\n",
    "\n",
    "obstacles = [(-100, 50, 75, 125)]\n",
    "\n",
    "# Run A*\n",
    "path = a_star(start, goal, obstacles, water_currents, xs, ys, grid_resolution=4, dt=DEFAULT_DT//2)\n",
    "colormap = ['blue', 'red', 'green', 'orange', 'black']\n",
    "\n",
    "\n",
    "def plot_path(path, targets, obstacles, water_currents, xs, ys):\n",
    "    if path:\n",
    "        # Plotting the path\n",
    "        x_coords, y_coords, headings, speeds, color_idx = zip(*path)\n",
    "\n",
    "        headings = [(h or 0) * 180/np.pi if (h or 0) < np.pi else (h or 0) * 180/np.pi - 360 for h in headings]\n",
    "        fig = go.Figure()\n",
    "\n",
    "        colors = [colormap[c % len(colormap)] for c in color_idx]\n",
    "        scatter = go.Scatter(x=x_coords, y=y_coords, mode='lines+markers', name='Path', hoverinfo='text', text=[f'X: {x}; Y: {y}; Heading: {heading}°; Speed: {speed}' for x, y, heading, speed in zip(x_coords, y_coords, headings, speeds)])\n",
    "        scatter.marker.color = colors\n",
    "        fig.add_trace(scatter)\n",
    "\n",
    "        target_xs = [x[0] for x in targets]\n",
    "        target_ys = [x[1] for x in targets]\n",
    "        fig.add_trace(go.Scatter(x=target_xs, y=target_ys, mode='markers', name='Goal',\n",
    "                            marker=dict(color='red', size=12)))\n",
    "\n",
    "        # Add arrows for water currents\n",
    "        arrows = []\n",
    "        for i, x in enumerate(xs):\n",
    "            if i % 10 != 0:\n",
    "                continue\n",
    "            for j, y in enumerate(ys):\n",
    "                if j % 10 != 0:\n",
    "                    continue\n",
    "                u, v = water_currents[i, j]\n",
    "                if np.linalg.norm([u, v]) > 0:  # Only plot if there is a significant current\n",
    "                    arrow = go.layout.Annotation(dict(x=x+20*np.sign(u), y=y+20*np.sign(v),\n",
    "                                    ax=x, ay=y,  # Adjust the scaling factor based on your grid resolution\n",
    "                                    xref=\"x\", yref=\"y\",\n",
    "                                    axref=\"x\", ayref=\"y\",\n",
    "                                    showarrow=True, arrowhead=1, arrowsize=2, arrowwidth=1, opacity=0.25, arrowcolor='green'))\n",
    "\n",
    "                    arrows.append(arrow)\n",
    "\n",
    "        rectangles = []\n",
    "        for (x0, x1, y0, y1) in obstacles:\n",
    "            rect = go.layout.Shape(dict(type=\"rect\", x0=x0, x1=x1, y0=y0, y1=y1, line=dict(color=\"grey\"), fillcolor=\"grey\", opacity=0.5))\n",
    "            rectangles.append(rect)\n",
    "\n",
    "        fig.update_layout(title='Optimal Sailing Path', xaxis_title='X Position (m)', yaxis_title='Y Position (m)',\n",
    "                    hovermode='closest', width=600, height=600, annotations=arrows, shapes=rectangles)\n",
    "        fig.update_xaxes(range=[-350, 350])\n",
    "        fig.update_yaxes(range=[-350, 350])\n",
    "        fig.show()\n",
    "    else:\n",
    "        print(\"No path found\")\n",
    "\n",
    "if path is not None:\n",
    "    plot_path([(x, y, z, w, 0) for x, y, z, w, _ in path], [goal], obstacles, water_currents, xs, ys)\n",
    "else:\n",
    "    print(\"No path found\")"
   ]
  },
  {
   "cell_type": "code",
   "execution_count": 3,
   "metadata": {},
   "outputs": [
    {
     "data": {
      "application/vnd.plotly.v1+json": {
       "config": {
        "plotlyServerURL": "https://plot.ly"
       },
       "data": [
        {
         "hoverinfo": "text",
         "hovertext": [
          "Angle: 0°",
          "Angle: 1°",
          "Angle: 2°",
          "Angle: 3°",
          "Angle: 4°",
          "Angle: 5°",
          "Angle: 6°",
          "Angle: 7°",
          "Angle: 8°",
          "Angle: 9°",
          "Angle: 10°",
          "Angle: 11°",
          "Angle: 12°",
          "Angle: 13°",
          "Angle: 14°",
          "Angle: 15°",
          "Angle: 16°",
          "Angle: 17°",
          "Angle: 18°",
          "Angle: 19°",
          "Angle: 20°",
          "Angle: 21°",
          "Angle: 22°",
          "Angle: 23°",
          "Angle: 24°",
          "Angle: 25°",
          "Angle: 26°",
          "Angle: 27°",
          "Angle: 28°",
          "Angle: 29°",
          "Angle: 30°",
          "Angle: 31°",
          "Angle: 32°",
          "Angle: 33°",
          "Angle: 34°",
          "Angle: 35°",
          "Angle: 36°",
          "Angle: 37°",
          "Angle: 38°",
          "Angle: 39°",
          "Angle: 40°",
          "Angle: 41°",
          "Angle: 42°",
          "Angle: 43°",
          "Angle: 44°",
          "Angle: 45°",
          "Angle: 46°",
          "Angle: 47°",
          "Angle: 48°",
          "Angle: 49°",
          "Angle: 50°",
          "Angle: 51°",
          "Angle: 52°",
          "Angle: 53°",
          "Angle: 54°",
          "Angle: 55°",
          "Angle: 56°",
          "Angle: 57°",
          "Angle: 58°",
          "Angle: 59°",
          "Angle: 60°",
          "Angle: 61°",
          "Angle: 62°",
          "Angle: 63°",
          "Angle: 64°",
          "Angle: 65°",
          "Angle: 66°",
          "Angle: 67°",
          "Angle: 68°",
          "Angle: 69°",
          "Angle: 70°",
          "Angle: 71°",
          "Angle: 72°",
          "Angle: 73°",
          "Angle: 74°",
          "Angle: 75°",
          "Angle: 76°",
          "Angle: 77°",
          "Angle: 78°",
          "Angle: 79°",
          "Angle: 80°",
          "Angle: 81°",
          "Angle: 82°",
          "Angle: 83°",
          "Angle: 84°",
          "Angle: 85°",
          "Angle: 86°",
          "Angle: 87°",
          "Angle: 88°",
          "Angle: 89°",
          "Angle: 90°",
          "Angle: 91°",
          "Angle: 92°",
          "Angle: 93°",
          "Angle: 94°",
          "Angle: 95°",
          "Angle: 96°",
          "Angle: 97°",
          "Angle: 98°",
          "Angle: 99°",
          "Angle: 100°",
          "Angle: 101°",
          "Angle: 102°",
          "Angle: 103°",
          "Angle: 104°",
          "Angle: 105°",
          "Angle: 106°",
          "Angle: 107°",
          "Angle: 108°",
          "Angle: 109°",
          "Angle: 110°",
          "Angle: 111°",
          "Angle: 112°",
          "Angle: 113°",
          "Angle: 114°",
          "Angle: 115°",
          "Angle: 116°",
          "Angle: 117°",
          "Angle: 118°",
          "Angle: 119°",
          "Angle: 120°",
          "Angle: 121°",
          "Angle: 122°",
          "Angle: 123°",
          "Angle: 124°",
          "Angle: 125°",
          "Angle: 126°",
          "Angle: 127°",
          "Angle: 128°",
          "Angle: 129°",
          "Angle: 130°",
          "Angle: 131°",
          "Angle: 132°",
          "Angle: 133°",
          "Angle: 134°",
          "Angle: 135°",
          "Angle: 136°",
          "Angle: 137°",
          "Angle: 138°",
          "Angle: 139°",
          "Angle: 140°",
          "Angle: 141°",
          "Angle: 142°",
          "Angle: 143°",
          "Angle: 144°",
          "Angle: 145°",
          "Angle: 146°",
          "Angle: 147°",
          "Angle: 148°",
          "Angle: 149°",
          "Angle: 150°",
          "Angle: 151°",
          "Angle: 152°",
          "Angle: 153°",
          "Angle: 154°",
          "Angle: 155°",
          "Angle: 156°",
          "Angle: 157°",
          "Angle: 158°",
          "Angle: 159°",
          "Angle: 160°",
          "Angle: 161°",
          "Angle: 162°",
          "Angle: 163°",
          "Angle: 164°",
          "Angle: 165°",
          "Angle: 166°",
          "Angle: 167°",
          "Angle: 168°",
          "Angle: 169°",
          "Angle: 170°",
          "Angle: 171°",
          "Angle: 172°",
          "Angle: 173°",
          "Angle: 174°",
          "Angle: 175°",
          "Angle: 176°",
          "Angle: 177°",
          "Angle: 178°",
          "Angle: 179°"
         ],
         "mode": "lines+markers",
         "name": "Path",
         "type": "scatter",
         "x": [
          0,
          1,
          2,
          3,
          4,
          5,
          6,
          7,
          8,
          9,
          10,
          11,
          12,
          13,
          14,
          15,
          16,
          17,
          18,
          19,
          20,
          21,
          22,
          23,
          24,
          25,
          26,
          27,
          28,
          29,
          30,
          31,
          32,
          33,
          34,
          35,
          36,
          37,
          38,
          39,
          40,
          41,
          42,
          43,
          44,
          45,
          46,
          47,
          48,
          49,
          50,
          51,
          52,
          53,
          54,
          55,
          56,
          57,
          58,
          59,
          60,
          61,
          62,
          63,
          64,
          65,
          66,
          67,
          68,
          69,
          70,
          71,
          72,
          73,
          74,
          75,
          76,
          77,
          78,
          79,
          80,
          81,
          82,
          83,
          84,
          85,
          86,
          87,
          88,
          89,
          90,
          91,
          92,
          93,
          94,
          95,
          96,
          97,
          98,
          99,
          100,
          101,
          102,
          103,
          104,
          105,
          106,
          107,
          108,
          109,
          110,
          111,
          112,
          113,
          114,
          115,
          116,
          117,
          118,
          119,
          120,
          121,
          122,
          123,
          124,
          125,
          126,
          127,
          128,
          129,
          130,
          131,
          132,
          133,
          134,
          135,
          136,
          137,
          138,
          139,
          140,
          141,
          142,
          143,
          144,
          145,
          146,
          147,
          148,
          149,
          150,
          151,
          152,
          153,
          154,
          155,
          156,
          157,
          158,
          159,
          160,
          161,
          162,
          163,
          164,
          165,
          166,
          167,
          168,
          169,
          170,
          171,
          172,
          173,
          174,
          175,
          176,
          177,
          178,
          179
         ],
         "y": [
          0,
          -0.05886677901069917,
          -0.1176797630543538,
          -0.17638517585936112,
          -0.2349293147231869,
          -0.29325852665964247,
          -0.35131930009237916,
          -0.40905827894628705,
          -0.4664221776233548,
          -0.5233579870624985,
          -0.579812903385228,
          -0.6357343433742971,
          -0.6910700179995415,
          -0.7457679674017771,
          -0.7997764118132974,
          -0.8530440667548361,
          -0.9055200018262672,
          -0.9571536554884095,
          -1.007894907153173,
          -1.0576941158761888,
          -1.1065020661769658,
          -1.1542700979539413,
          -1.2009500815515415,
          -1.2464943944724027,
          -1.2908561138142203,
          -1.3339886358075652,
          -1.375846474037747,
          -1.4163842362500987,
          -1.4555575965404932,
          -1.4933227949682737,
          -1.5296367738617476,
          -1.5644573197026652,
          -1.5977428891943697,
          -1.6294527303589224,
          -1.6595470318419154,
          -1.687986496862807,
          -1.714733243141022,
          -1.7397497288218964,
          -1.7629994444787949,
          -1.7844468728670906,
          -1.9113379227337401,
          -1.7087583346194903,
          -1.683185845996879,
          -1.7609275642340436,
          -1.9347934149042567,
          -1.8094756316296177,
          -1.7864212854835928,
          -1.7625506268188704,
          -1.7379011685212196,
          -1.7125159795698464,
          -1.6864614900041035,
          -1.6598084746755455,
          -1.6326102479446274,
          -1.6049270400327489,
          -1.5768602370042737,
          -1.5485562421763854,
          -1.52025084151138,
          -1.4924576651363413,
          -1.4664133272095479,
          -1.4476506257087782,
          -1.4375664214509247,
          -1.4110153131338987,
          -1.378827716010687,
          -1.3437762665285662,
          -1.3066729165292088,
          -1.2678809019854795,
          -1.2276091888640552,
          -1.185992191992698,
          -1.1431263962472138,
          -1.099091025907102,
          -1.0539378515260491,
          -1.0077085231718357,
          -0.9604479572199569,
          -0.912224758494129,
          -0.8631090937315445,
          -0.8131751442093322,
          -0.7624989866633708,
          -0.711160407036478,
          -0.6592339071278841,
          -0.6067835529866826,
          -0.5538600210110353,
          -0.5004900439712264,
          -0.4466549068739726,
          -0.39234075354241804,
          -0.3375455721744506,
          -0.2822792521432699,
          -0.22656292112556264,
          -0.1704291269749825,
          -0.11392028233504489,
          -0.057089503062252446,
          -2.0065794351047517e-16,
          0.057272914133534324,
          0.11465102645999668,
          0.17205907241138402,
          0.22942637389853238,
          0.28668548554691486,
          0.34377617604950567,
          0.4006420728506873,
          0.4572317865888921,
          0.5134983712117062,
          0.5694023852803796,
          0.6249094752466668,
          0.6799747325643386,
          0.7345566293699415,
          0.7886128740185026,
          0.8421045087947459,
          0.8949903858175496,
          0.9472315156197084,
          0.9987833936123206,
          1.0496146863580187,
          1.0996868109416502,
          1.1489620630298913,
          1.197392087600091,
          1.244927635780795,
          1.2915219863081087,
          1.3371283042665658,
          1.3816905581907102,
          1.425158065040418,
          1.4674798147406727,
          1.508602987817134,
          1.5484787476735118,
          1.587018450373292,
          1.6241127273470195,
          1.6596077747372047,
          1.6933446567607562,
          1.7251401103428399,
          1.7548108277258387,
          1.7821856777785106,
          1.8070632237522626,
          1.8292421614538767,
          1.848471940802001,
          1.864637819329343,
          1.8778179379776994,
          1.8881754498769234,
          1.8958728996571386,
          1.9011332768557183,
          1.9041892782468648,
          1.9052808149664981,
          1.904672123199836,
          1.902652431583864,
          1.899510382732336,
          1.8955163223202027,
          1.8907844821832045,
          1.8853393016769258,
          1.8792414014875247,
          1.8725204385712217,
          1.8652190850725778,
          1.8573863665750492,
          1.849070035343236,
          1.8403004841534212,
          1.8311005452063063,
          1.8215294207038146,
          1.811634220550613,
          1.801464069752764,
          1.7910414592411934,
          1.7804160767809487,
          1.7696410408550443,
          1.7587609034145208,
          1.7477994249985096,
          1.7368062867275014,
          1.7258069058036931,
          1.7148831226980268,
          1.7040778543050126,
          1.6934664498370826,
          1.6831320092855668,
          1.6731640366274814,
          1.6636389374791267,
          1.6546184457610926,
          1.646176598306498,
          1.6383904676467518,
          1.6313617550032946,
          1.6250963697618666,
          1.6195081985388005,
          1.6144827102791894,
          1.6099144923881745,
          1.6056590545827707,
          1.6015840117956492,
          1.597560800147628,
          1.5934596765382139,
          1.589149577901785
         ]
        }
       ],
       "layout": {
        "height": 800,
        "template": {
         "data": {
          "bar": [
           {
            "error_x": {
             "color": "#2a3f5f"
            },
            "error_y": {
             "color": "#2a3f5f"
            },
            "marker": {
             "line": {
              "color": "#E5ECF6",
              "width": 0.5
             },
             "pattern": {
              "fillmode": "overlay",
              "size": 10,
              "solidity": 0.2
             }
            },
            "type": "bar"
           }
          ],
          "barpolar": [
           {
            "marker": {
             "line": {
              "color": "#E5ECF6",
              "width": 0.5
             },
             "pattern": {
              "fillmode": "overlay",
              "size": 10,
              "solidity": 0.2
             }
            },
            "type": "barpolar"
           }
          ],
          "carpet": [
           {
            "aaxis": {
             "endlinecolor": "#2a3f5f",
             "gridcolor": "white",
             "linecolor": "white",
             "minorgridcolor": "white",
             "startlinecolor": "#2a3f5f"
            },
            "baxis": {
             "endlinecolor": "#2a3f5f",
             "gridcolor": "white",
             "linecolor": "white",
             "minorgridcolor": "white",
             "startlinecolor": "#2a3f5f"
            },
            "type": "carpet"
           }
          ],
          "choropleth": [
           {
            "colorbar": {
             "outlinewidth": 0,
             "ticks": ""
            },
            "type": "choropleth"
           }
          ],
          "contour": [
           {
            "colorbar": {
             "outlinewidth": 0,
             "ticks": ""
            },
            "colorscale": [
             [
              0,
              "#0d0887"
             ],
             [
              0.1111111111111111,
              "#46039f"
             ],
             [
              0.2222222222222222,
              "#7201a8"
             ],
             [
              0.3333333333333333,
              "#9c179e"
             ],
             [
              0.4444444444444444,
              "#bd3786"
             ],
             [
              0.5555555555555556,
              "#d8576b"
             ],
             [
              0.6666666666666666,
              "#ed7953"
             ],
             [
              0.7777777777777778,
              "#fb9f3a"
             ],
             [
              0.8888888888888888,
              "#fdca26"
             ],
             [
              1,
              "#f0f921"
             ]
            ],
            "type": "contour"
           }
          ],
          "contourcarpet": [
           {
            "colorbar": {
             "outlinewidth": 0,
             "ticks": ""
            },
            "type": "contourcarpet"
           }
          ],
          "heatmap": [
           {
            "colorbar": {
             "outlinewidth": 0,
             "ticks": ""
            },
            "colorscale": [
             [
              0,
              "#0d0887"
             ],
             [
              0.1111111111111111,
              "#46039f"
             ],
             [
              0.2222222222222222,
              "#7201a8"
             ],
             [
              0.3333333333333333,
              "#9c179e"
             ],
             [
              0.4444444444444444,
              "#bd3786"
             ],
             [
              0.5555555555555556,
              "#d8576b"
             ],
             [
              0.6666666666666666,
              "#ed7953"
             ],
             [
              0.7777777777777778,
              "#fb9f3a"
             ],
             [
              0.8888888888888888,
              "#fdca26"
             ],
             [
              1,
              "#f0f921"
             ]
            ],
            "type": "heatmap"
           }
          ],
          "heatmapgl": [
           {
            "colorbar": {
             "outlinewidth": 0,
             "ticks": ""
            },
            "colorscale": [
             [
              0,
              "#0d0887"
             ],
             [
              0.1111111111111111,
              "#46039f"
             ],
             [
              0.2222222222222222,
              "#7201a8"
             ],
             [
              0.3333333333333333,
              "#9c179e"
             ],
             [
              0.4444444444444444,
              "#bd3786"
             ],
             [
              0.5555555555555556,
              "#d8576b"
             ],
             [
              0.6666666666666666,
              "#ed7953"
             ],
             [
              0.7777777777777778,
              "#fb9f3a"
             ],
             [
              0.8888888888888888,
              "#fdca26"
             ],
             [
              1,
              "#f0f921"
             ]
            ],
            "type": "heatmapgl"
           }
          ],
          "histogram": [
           {
            "marker": {
             "pattern": {
              "fillmode": "overlay",
              "size": 10,
              "solidity": 0.2
             }
            },
            "type": "histogram"
           }
          ],
          "histogram2d": [
           {
            "colorbar": {
             "outlinewidth": 0,
             "ticks": ""
            },
            "colorscale": [
             [
              0,
              "#0d0887"
             ],
             [
              0.1111111111111111,
              "#46039f"
             ],
             [
              0.2222222222222222,
              "#7201a8"
             ],
             [
              0.3333333333333333,
              "#9c179e"
             ],
             [
              0.4444444444444444,
              "#bd3786"
             ],
             [
              0.5555555555555556,
              "#d8576b"
             ],
             [
              0.6666666666666666,
              "#ed7953"
             ],
             [
              0.7777777777777778,
              "#fb9f3a"
             ],
             [
              0.8888888888888888,
              "#fdca26"
             ],
             [
              1,
              "#f0f921"
             ]
            ],
            "type": "histogram2d"
           }
          ],
          "histogram2dcontour": [
           {
            "colorbar": {
             "outlinewidth": 0,
             "ticks": ""
            },
            "colorscale": [
             [
              0,
              "#0d0887"
             ],
             [
              0.1111111111111111,
              "#46039f"
             ],
             [
              0.2222222222222222,
              "#7201a8"
             ],
             [
              0.3333333333333333,
              "#9c179e"
             ],
             [
              0.4444444444444444,
              "#bd3786"
             ],
             [
              0.5555555555555556,
              "#d8576b"
             ],
             [
              0.6666666666666666,
              "#ed7953"
             ],
             [
              0.7777777777777778,
              "#fb9f3a"
             ],
             [
              0.8888888888888888,
              "#fdca26"
             ],
             [
              1,
              "#f0f921"
             ]
            ],
            "type": "histogram2dcontour"
           }
          ],
          "mesh3d": [
           {
            "colorbar": {
             "outlinewidth": 0,
             "ticks": ""
            },
            "type": "mesh3d"
           }
          ],
          "parcoords": [
           {
            "line": {
             "colorbar": {
              "outlinewidth": 0,
              "ticks": ""
             }
            },
            "type": "parcoords"
           }
          ],
          "pie": [
           {
            "automargin": true,
            "type": "pie"
           }
          ],
          "scatter": [
           {
            "fillpattern": {
             "fillmode": "overlay",
             "size": 10,
             "solidity": 0.2
            },
            "type": "scatter"
           }
          ],
          "scatter3d": [
           {
            "line": {
             "colorbar": {
              "outlinewidth": 0,
              "ticks": ""
             }
            },
            "marker": {
             "colorbar": {
              "outlinewidth": 0,
              "ticks": ""
             }
            },
            "type": "scatter3d"
           }
          ],
          "scattercarpet": [
           {
            "marker": {
             "colorbar": {
              "outlinewidth": 0,
              "ticks": ""
             }
            },
            "type": "scattercarpet"
           }
          ],
          "scattergeo": [
           {
            "marker": {
             "colorbar": {
              "outlinewidth": 0,
              "ticks": ""
             }
            },
            "type": "scattergeo"
           }
          ],
          "scattergl": [
           {
            "marker": {
             "colorbar": {
              "outlinewidth": 0,
              "ticks": ""
             }
            },
            "type": "scattergl"
           }
          ],
          "scattermapbox": [
           {
            "marker": {
             "colorbar": {
              "outlinewidth": 0,
              "ticks": ""
             }
            },
            "type": "scattermapbox"
           }
          ],
          "scatterpolar": [
           {
            "marker": {
             "colorbar": {
              "outlinewidth": 0,
              "ticks": ""
             }
            },
            "type": "scatterpolar"
           }
          ],
          "scatterpolargl": [
           {
            "marker": {
             "colorbar": {
              "outlinewidth": 0,
              "ticks": ""
             }
            },
            "type": "scatterpolargl"
           }
          ],
          "scatterternary": [
           {
            "marker": {
             "colorbar": {
              "outlinewidth": 0,
              "ticks": ""
             }
            },
            "type": "scatterternary"
           }
          ],
          "surface": [
           {
            "colorbar": {
             "outlinewidth": 0,
             "ticks": ""
            },
            "colorscale": [
             [
              0,
              "#0d0887"
             ],
             [
              0.1111111111111111,
              "#46039f"
             ],
             [
              0.2222222222222222,
              "#7201a8"
             ],
             [
              0.3333333333333333,
              "#9c179e"
             ],
             [
              0.4444444444444444,
              "#bd3786"
             ],
             [
              0.5555555555555556,
              "#d8576b"
             ],
             [
              0.6666666666666666,
              "#ed7953"
             ],
             [
              0.7777777777777778,
              "#fb9f3a"
             ],
             [
              0.8888888888888888,
              "#fdca26"
             ],
             [
              1,
              "#f0f921"
             ]
            ],
            "type": "surface"
           }
          ],
          "table": [
           {
            "cells": {
             "fill": {
              "color": "#EBF0F8"
             },
             "line": {
              "color": "white"
             }
            },
            "header": {
             "fill": {
              "color": "#C8D4E3"
             },
             "line": {
              "color": "white"
             }
            },
            "type": "table"
           }
          ]
         },
         "layout": {
          "annotationdefaults": {
           "arrowcolor": "#2a3f5f",
           "arrowhead": 0,
           "arrowwidth": 1
          },
          "autotypenumbers": "strict",
          "coloraxis": {
           "colorbar": {
            "outlinewidth": 0,
            "ticks": ""
           }
          },
          "colorscale": {
           "diverging": [
            [
             0,
             "#8e0152"
            ],
            [
             0.1,
             "#c51b7d"
            ],
            [
             0.2,
             "#de77ae"
            ],
            [
             0.3,
             "#f1b6da"
            ],
            [
             0.4,
             "#fde0ef"
            ],
            [
             0.5,
             "#f7f7f7"
            ],
            [
             0.6,
             "#e6f5d0"
            ],
            [
             0.7,
             "#b8e186"
            ],
            [
             0.8,
             "#7fbc41"
            ],
            [
             0.9,
             "#4d9221"
            ],
            [
             1,
             "#276419"
            ]
           ],
           "sequential": [
            [
             0,
             "#0d0887"
            ],
            [
             0.1111111111111111,
             "#46039f"
            ],
            [
             0.2222222222222222,
             "#7201a8"
            ],
            [
             0.3333333333333333,
             "#9c179e"
            ],
            [
             0.4444444444444444,
             "#bd3786"
            ],
            [
             0.5555555555555556,
             "#d8576b"
            ],
            [
             0.6666666666666666,
             "#ed7953"
            ],
            [
             0.7777777777777778,
             "#fb9f3a"
            ],
            [
             0.8888888888888888,
             "#fdca26"
            ],
            [
             1,
             "#f0f921"
            ]
           ],
           "sequentialminus": [
            [
             0,
             "#0d0887"
            ],
            [
             0.1111111111111111,
             "#46039f"
            ],
            [
             0.2222222222222222,
             "#7201a8"
            ],
            [
             0.3333333333333333,
             "#9c179e"
            ],
            [
             0.4444444444444444,
             "#bd3786"
            ],
            [
             0.5555555555555556,
             "#d8576b"
            ],
            [
             0.6666666666666666,
             "#ed7953"
            ],
            [
             0.7777777777777778,
             "#fb9f3a"
            ],
            [
             0.8888888888888888,
             "#fdca26"
            ],
            [
             1,
             "#f0f921"
            ]
           ]
          },
          "colorway": [
           "#636efa",
           "#EF553B",
           "#00cc96",
           "#ab63fa",
           "#FFA15A",
           "#19d3f3",
           "#FF6692",
           "#B6E880",
           "#FF97FF",
           "#FECB52"
          ],
          "font": {
           "color": "#2a3f5f"
          },
          "geo": {
           "bgcolor": "white",
           "lakecolor": "white",
           "landcolor": "#E5ECF6",
           "showlakes": true,
           "showland": true,
           "subunitcolor": "white"
          },
          "hoverlabel": {
           "align": "left"
          },
          "hovermode": "closest",
          "mapbox": {
           "style": "light"
          },
          "paper_bgcolor": "white",
          "plot_bgcolor": "#E5ECF6",
          "polar": {
           "angularaxis": {
            "gridcolor": "white",
            "linecolor": "white",
            "ticks": ""
           },
           "bgcolor": "#E5ECF6",
           "radialaxis": {
            "gridcolor": "white",
            "linecolor": "white",
            "ticks": ""
           }
          },
          "scene": {
           "xaxis": {
            "backgroundcolor": "#E5ECF6",
            "gridcolor": "white",
            "gridwidth": 2,
            "linecolor": "white",
            "showbackground": true,
            "ticks": "",
            "zerolinecolor": "white"
           },
           "yaxis": {
            "backgroundcolor": "#E5ECF6",
            "gridcolor": "white",
            "gridwidth": 2,
            "linecolor": "white",
            "showbackground": true,
            "ticks": "",
            "zerolinecolor": "white"
           },
           "zaxis": {
            "backgroundcolor": "#E5ECF6",
            "gridcolor": "white",
            "gridwidth": 2,
            "linecolor": "white",
            "showbackground": true,
            "ticks": "",
            "zerolinecolor": "white"
           }
          },
          "shapedefaults": {
           "line": {
            "color": "#2a3f5f"
           }
          },
          "ternary": {
           "aaxis": {
            "gridcolor": "white",
            "linecolor": "white",
            "ticks": ""
           },
           "baxis": {
            "gridcolor": "white",
            "linecolor": "white",
            "ticks": ""
           },
           "bgcolor": "#E5ECF6",
           "caxis": {
            "gridcolor": "white",
            "linecolor": "white",
            "ticks": ""
           }
          },
          "title": {
           "x": 0.05
          },
          "xaxis": {
           "automargin": true,
           "gridcolor": "white",
           "linecolor": "white",
           "ticks": "",
           "title": {
            "standoff": 15
           },
           "zerolinecolor": "white",
           "zerolinewidth": 2
          },
          "yaxis": {
           "automargin": true,
           "gridcolor": "white",
           "linecolor": "white",
           "ticks": "",
           "title": {
            "standoff": 15
           },
           "zerolinecolor": "white",
           "zerolinewidth": 2
          }
         }
        },
        "width": 800
       }
      }
     },
     "metadata": {},
     "output_type": "display_data"
    }
   ],
   "source": [
    "# Plotting the path\n",
    "x_coords = np.arange(0, 180, 1)\n",
    "y_coords = speed_interp(x_coords * np.pi / 180) * -np.cos(x_coords * np.pi / 180)\n",
    "\n",
    "fig = go.Figure()\n",
    "fig.add_trace(go.Scatter(x=x_coords, y=y_coords, mode='lines+markers', name='Path',\n",
    "                        hoverinfo='text', hovertext=[f'Angle: {angle}°' for angle in x_coords]))\n",
    "fig.update_layout(height=800, width=800)\n",
    "fig.show()"
   ]
  },
  {
   "cell_type": "code",
   "execution_count": 4,
   "metadata": {},
   "outputs": [
    {
     "name": "stdout",
     "output_type": "stream",
     "text": [
      "[0 0] [  0 250]\n"
     ]
    },
    {
     "ename": "TypeError",
     "evalue": "a_star() missing 3 required positional arguments: 'water_currents', 'xs', and 'ys'",
     "output_type": "error",
     "traceback": [
      "\u001b[0;31m---------------------------------------------------------------------------\u001b[0m",
      "\u001b[0;31mTypeError\u001b[0m                                 Traceback (most recent call last)",
      "\u001b[1;32m/home/valente/coding/boat_learner/python_notebooks/a_star.ipynb Cell 4\u001b[0m line \u001b[0;36m2\n\u001b[1;32m     <a href='vscode-notebook-cell:/home/valente/coding/boat_learner/python_notebooks/a_star.ipynb#W3sZmlsZQ%3D%3D?line=19'>20</a>\u001b[0m \u001b[39mprint\u001b[39m(start, goal)\n\u001b[1;32m     <a href='vscode-notebook-cell:/home/valente/coding/boat_learner/python_notebooks/a_star.ipynb#W3sZmlsZQ%3D%3D?line=20'>21</a>\u001b[0m \u001b[39m# Run A*\u001b[39;00m\n\u001b[0;32m---> <a href='vscode-notebook-cell:/home/valente/coding/boat_learner/python_notebooks/a_star.ipynb#W3sZmlsZQ%3D%3D?line=21'>22</a>\u001b[0m path \u001b[39m=\u001b[39m a_star(start, goal, start_heading\u001b[39m=\u001b[39;49mstart_heading, grid_resolution\u001b[39m=\u001b[39;49mgrid_resolution, dt\u001b[39m=\u001b[39;49mdt, \u001b[39m*\u001b[39;49m\u001b[39m*\u001b[39;49mbounds)\n\u001b[1;32m     <a href='vscode-notebook-cell:/home/valente/coding/boat_learner/python_notebooks/a_star.ipynb#W3sZmlsZQ%3D%3D?line=23'>24</a>\u001b[0m \u001b[39mprint\u001b[39m(\u001b[39mlen\u001b[39m(path))\n\u001b[1;32m     <a href='vscode-notebook-cell:/home/valente/coding/boat_learner/python_notebooks/a_star.ipynb#W3sZmlsZQ%3D%3D?line=25'>26</a>\u001b[0m path \u001b[39m=\u001b[39m [(x \u001b[39m+\u001b[39m previous_target_x, y \u001b[39m+\u001b[39m previous_target_y, heading, mark_idx) \u001b[39mfor\u001b[39;00m x, y, heading, _ \u001b[39min\u001b[39;00m path]\n",
      "\u001b[0;31mTypeError\u001b[0m: a_star() missing 3 required positional arguments: 'water_currents', 'xs', and 'ys'"
     ]
    }
   ],
   "source": [
    "targets = [(0, 250), (250, 250), (250, 0), (0, 0), (-250, 0), (-250, -250), (0, -250), (0, 0)]\n",
    "# targets = [(0, 250), (250, 250), (250, 0), (0, 0)] # , (-250, 0), (-250, -250), (0, -250), (0, 0)]\n",
    "# targets = [(0, 250)]\n",
    "\n",
    "bounds = {'min_x': -300, 'max_x': 300, 'min_y': -300, 'max_y': 300}\n",
    "targets = [(0, 250, GRID_RESOLUTION, DEFAULT_DT, bounds), (0, -250, GRID_RESOLUTION * 4, DEFAULT_DT * 2, {k: v * 2 for k, v in bounds.items()}), (0, 0, GRID_RESOLUTION, DEFAULT_DT, bounds)]\n",
    "full_trajectory = []\n",
    "\n",
    "start_x = 0\n",
    "start_y = 0\n",
    "start_heading = 2*np.pi - np.pi/4\n",
    "start_vmg = 0\n",
    "previous_target_x = 0\n",
    "previous_target_y = 0\n",
    "for mark_idx, (target_x, target_y, grid_resolution, dt, bounds) in enumerate(targets):\n",
    "    # Define start and goal\n",
    "    start = np.array([start_x - previous_target_x, start_y - previous_target_y])\n",
    "    goal = np.array([target_x - previous_target_x, target_y - previous_target_y])\n",
    "\n",
    "    print(start, goal)\n",
    "    # Run A*\n",
    "    path = a_star(start, goal, start_heading=start_heading, grid_resolution=grid_resolution, dt=dt, **bounds)\n",
    "\n",
    "    print(len(path))\n",
    "\n",
    "    path = [(x + previous_target_x, y + previous_target_y, heading, mark_idx) for x, y, heading, _ in path]\n",
    "    start_x, start_y, start_heading, _ = path[-1]\n",
    "    previous_target_x = target_x\n",
    "    previous_target_y = target_y\n",
    "\n",
    "    print('x, y:', start_x, start_y)\n",
    "\n",
    "\n",
    "    full_trajectory.extend(path)\n",
    "\n",
    "\n",
    "plot_path(full_trajectory, targets)"
   ]
  }
 ],
 "metadata": {
  "kernelspec": {
   "display_name": "Python 3",
   "language": "python",
   "name": "python3"
  },
  "language_info": {
   "codemirror_mode": {
    "name": "ipython",
    "version": 3
   },
   "file_extension": ".py",
   "mimetype": "text/x-python",
   "name": "python",
   "nbconvert_exporter": "python",
   "pygments_lexer": "ipython3",
   "version": "3.10.0"
  }
 },
 "nbformat": 4,
 "nbformat_minor": 2
}
